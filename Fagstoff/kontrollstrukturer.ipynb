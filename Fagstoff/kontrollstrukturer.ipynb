{
 "cells": [
  {
   "cell_type": "markdown",
   "metadata": {},
   "source": [
    "# Kontrollstrukturer\n",
    "__Creative Commons BY-SA : bitjungle (Rune Mathisen) og fuzzbin (Tom Jarle Christiansen)__\n",
    "\n",
    "<hr/>\n",
    "<img alt=\"Trafikklys. Lisens: CC0\" style=\"float: right; margin-left: 10px;\" src=\"img/297px-Ampelmaennchen_Ost.jpg\">\n",
    "\n",
    "**En kontrollstruktur i et dataprogram er kodeblokk som velger en vei gjennom programmet basert på analyse av en eller flere variabler. Kontrollstrukterer i dataprogrammer er helt grunnleggende kode for å få et dataprogram til å reagere på en bestemt måte når en spesiell tilstand inntreffer.**\n",
    "\n",
    "Tenk deg at du står ved et lyskryss. Du ser på lyset, og ta en avgjørelse. Er det grønt, kan du gå over krysset. Er det rødt, må du vente. \n",
    "\n",
    "Trafikklyset er en variabel, og du må prosessere denne variablen for å velge korrekt utfall. I dataprogrammer gjør vi på samme måte. Vi må hele tiden vurdere verdien til en eller flere variabler, og så ta beslutninger ut ifra hvilken verdi variablene har.\n",
    "\n",
    "Det finnes to hovedtyper av kontrollstrukturer, og vi skal se nærmere på disse nedenfor. I det praktiske eksemplet med lyskrysset, kan vi tenke oss to ulike løsninger:\n",
    "\n",
    "1. Dersom trafikklyset er rødt så VENT, ellers GÅ.\n",
    "2. Så lenge trafikklyset er grønt, så fortsett å gå.\n",
    "\n",
    "Den første løsningen er en såkalt **betinget struktur**, og den andre løsningen er en **løkke**. For at den andre løsningen skal fungere i dette eksemplet, må vi ha en rutine for å stoppe når betingelsen (_\"...så lenge det er grønt...\"_) opphører å være sann.\n",
    "\n",
    "Det er kanskje ikke sånn helt umiddelbart klart for deg hva som er forskjellen på de to løsningene, men det blir helt sikkert enklere å forstå når vi har laget noen praktiske programmeringseksempler."
   ]
  },
  {
   "cell_type": "markdown",
   "metadata": {},
   "source": [
    "## Betingede strukturer  (tester)\n",
    "\n",
    "I nesten alle programmer vil man før eller siden få behov for å teste eller sammenligne verdier slik at programmet kan gjøre ulike ting avhengig av resultatet på testen."
   ]
  },
  {
   "cell_type": "markdown",
   "metadata": {},
   "source": [
    "### if-test\n",
    "\n",
    "La oss starte med trafikklys-eksemplet. Siden det bare kan ha to mulige verdier (rødt eller grønt), kan vi bruke en boolsk variabel for å representere trafikklyset. Enten er det grønt, ellers er det ikke grønt. Dette kan programmeres slik (forsøk å endre variablen `grønt` fra `True` til `False`):\n"
   ]
  },
  {
   "cell_type": "code",
   "execution_count": null,
   "metadata": {},
   "outputs": [],
   "source": [
    "grønt = True\n",
    "\n",
    "if grønt:\n",
    "    print(\"Du kan gå.\")\n",
    "else:\n",
    "    print(\"Du må vente.\")"
   ]
  },
  {
   "cell_type": "markdown",
   "metadata": {},
   "source": [
    "If-kommandoen bruker operatorer til å sammenlikne to verdier, og resultatet av en if-test er enten sann eller falsk. I eksempelet under skrives teksten ut _bare_ hvis variabelen a er lik 1. Prøv å endre på verdien til a, og se hva som skjer."
   ]
  },
  {
   "cell_type": "code",
   "execution_count": null,
   "metadata": {},
   "outputs": [],
   "source": [
    "a = 3\n",
    "\n",
    "if a == 3:\n",
    "    print(\"Variablen a er akkurat helt lik 3\")\n",
    "else:\n",
    "    print(\"Verdien til variablen a er \", a)"
   ]
  },
  {
   "cell_type": "markdown",
   "metadata": {},
   "source": [
    "\n",
    "Ofte ønsker man å gjøre litt mer avanserte ting enn kun å sjekke om to størrelser er like. Dette kan løses ved å bruke ulike operatorer. På denne måten kan man sjekke om to størrelser er større enn, mindre enn eller ulike hverandre. Man kan også kombinere flere tester med logiske operatorer som og og eller. Vi kan også lage større og mer sammensatte tester ved å kombinere kommandoene if, elif og else.\n",
    "\n",
    "I tester brukes dobbelt likhetstegn hvis man skal sjekke om to verdier er like. I en test bruker man [logiske sammenligningsoperatorer](https://docs.python.org/3/reference/expressions.html#value-comparisons).\n",
    "\n",
    "La oss se på flere eksempel der vi bruker ulike operatorer."
   ]
  },
  {
   "cell_type": "code",
   "execution_count": null,
   "metadata": {},
   "outputs": [],
   "source": [
    "tall1 = 9\n",
    "tall2 = 7\n",
    "\n",
    "if tall1 == tall2:\n",
    "    print(\"tall1 er lik tall2\")\n",
    "\n",
    "if tall1 > tall2:\n",
    "    print(\"tall1 er større enn tall2\")\n",
    "\n",
    "if tall1 >= tall2:\n",
    "    print(\"tall1 er større eller lik tall2\")\n",
    "    \n",
    "if tall1 != tall2:\n",
    "    print(\"tall1 er ulik tall2\")"
   ]
  },
  {
   "cell_type": "markdown",
   "metadata": {},
   "source": [
    "### elif og logiske kombinasjoner i tester\n",
    "\n",
    "Noen ganger kan det være nødvendig å kombinere flere typer uttrykk og operatorer for å få testet det man ønsker. Hvis man ønsker å kombinere flere tester etter hverandre, brukes kommandoene _elif_ og _else_. Hvis man ønsker å teste flere ting i samme test, brukes kommandoene [_and_](https://en.wikipedia.org/wiki/Logical_conjunction) og [_or_](https://en.wikipedia.org/wiki/Logical_disjunction)\n"
   ]
  },
  {
   "cell_type": "code",
   "execution_count": null,
   "metadata": {},
   "outputs": [],
   "source": [
    "tall1 = 12\n",
    "tall2 = 11\n",
    "\n",
    "if tall1 >= tall2 and tall2 % 2 == 0:\n",
    "    print(\"tall1 er større eller lik tall2 OG tall2 er et partall\")\n",
    "\n",
    "elif tall1 != tall2 or tall1 + tall2 > 10:\n",
    "    print(\"tall1 er ulik tall2 ELLER tall1 pluss tall2 er større enn 10\")\n",
    "\n",
    "else:\n",
    "    print(\"Ingen av de foregående if-testene slo til når dette vises\")"
   ]
  },
  {
   "cell_type": "markdown",
   "metadata": {},
   "source": [
    "## Løkker\n",
    "\n",
    "\n",
    "**I programmering har vi ofte behov for å gjenta kode mange ganger. For å få til dette bruker man løkker. Løkker har mye til felles med tester, men med den forskjellen at i en løkke gjentas kode intill en betingelse er sann eller usann.**\n",
    "\n",
    "Det finnes to hovedtyper løkker - for-løkker og while-løkker:\n",
    "\n",
    "+ **for** - Gjentar kode et gitt antall ganger\n",
    "+ **while** - Gjentar kode sålenge en betingelse er sann\n",
    "\n",
    "### For-løkker\n",
    "\n",
    "I en for-løkke bestemmer vi hvor mange ganger en kode skal gjentas. Alt dette gjøres i deklarasjonen av løkka. Legg spesielt merke til kommandoen [_range()_](https://docs.python.org/3/library/stdtypes.html#range)."
   ]
  },
  {
   "cell_type": "code",
   "execution_count": null,
   "metadata": {},
   "outputs": [],
   "source": [
    "for tall in range(10):\n",
    "    print(\"Tellevariabelen tall har nå verdien\", tall)"
   ]
  },
  {
   "cell_type": "markdown",
   "metadata": {},
   "source": [
    "## While-løkker\n",
    "\n",
    "\n",
    "En [while-løkke](https://en.wikipedia.org/wiki/While_loop#Python) har veldig lik funksjonalitet som for-løkker. Forskjellen er at i en while-løkke så må tellevariabelen deklarereres på forhånd, og den må økes eller minkes manuelt inne i koden. Alt dette gjøres i deklarasjonen på en for-løkke.\n"
   ]
  },
  {
   "cell_type": "code",
   "execution_count": null,
   "metadata": {},
   "outputs": [],
   "source": [
    "teller = 0\n",
    "while teller < 9:\n",
    "   print(\"Telleren har nå verdien:\", teller)\n",
    "   teller = teller + 1\n",
    "print(\"while-løkken er nå avsluttet\")"
   ]
  },
  {
   "cell_type": "markdown",
   "metadata": {},
   "source": [
    "La oss avslutte denne leksjonen med lyskryss-eksemplet vårt, men for å unngå at vi får en løkke som går evig lager vi en teller som endrer fra grønt til rødt etter et gitt antall gjentagelser. I eksempelet under tenker vi oss et system som trekker ut hver 8. passasjerer til utvidet sikkerhetskontroll på en flyplass. Vi starter med person 7, og teller ned til 0."
   ]
  },
  {
   "cell_type": "code",
   "execution_count": null,
   "metadata": {},
   "outputs": [],
   "source": [
    "grønt = True\n",
    "person = 7\n",
    "\n",
    "while grønt:\n",
    "    print(\"Gå på grønn sone\")\n",
    "    person = person - 1\n",
    "    if (person <= 0):\n",
    "        grønt = False\n",
    "        print(\"Gå til rød sone!\")"
   ]
  },
  {
   "cell_type": "markdown",
   "metadata": {},
   "source": [
    "## Oppgaver\n",
    "\n",
    "1. Lag en for-løkke som teller fra 0 til 20.\n",
    "2. Lag en for-løkke som teller fra 10 til 1.\n",
    "3. Lag en for-løkke som teller annenhvert tall fra 10 til 50.\n",
    "4. Lag et program der brukeren kan taste inn et tall. Programmet skriver så ut tallene fra 0 til det brukeren har tastet inn.\n",
    "5. Lag et program der brukeren kan taste inn et tall. Programmet skriver så ut _\"tallet er større enn 5\"_, _\"tallet er lik 5\"_ eller _\"tallet er mindre enn 5\"_ avhengig av hva slags tall brukeren tastet inn."
   ]
  },
  {
   "cell_type": "code",
   "execution_count": null,
   "metadata": {},
   "outputs": [],
   "source": []
  }
 ],
 "metadata": {
  "kernelspec": {
   "display_name": "Python 3",
   "language": "python",
   "name": "python3"
  },
  "language_info": {
   "codemirror_mode": {
    "name": "ipython",
    "version": 3
   },
   "file_extension": ".py",
   "mimetype": "text/x-python",
   "name": "python",
   "nbconvert_exporter": "python",
   "pygments_lexer": "ipython3",
   "version": "3.6.5"
  }
 },
 "nbformat": 4,
 "nbformat_minor": 2
}
