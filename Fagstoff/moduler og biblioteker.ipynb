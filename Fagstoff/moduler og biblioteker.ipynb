{
 "cells": [
  {
   "cell_type": "markdown",
   "metadata": {},
   "source": [
    "# Moduler, pakker og biblioteker\n",
    "__Creative Commons BY-SA : bitjungle (Rune Mathisen) og fuzzbin (Tom Jarle Christiansen)__\n",
    "\n",
    "<hr>\n",
    "<img alt=\"Teknologi på biblioteket. Lisens: CC0\" style=\"float: right; margin-left: 10px; width: 300px;\" src=\"img/tablet-library.jpg\">\n",
    "\n",
    "**En av fordelene med å bruke Python i programvareprosjekter, er det store økosystemet av moduler som enkelt kan importeres og tas i bruk. Her skal vi se litt på hvordan du tar i bruk moduler, og du får noen tips til moduler som kan være nyttige for faget Programmering og modellering.**\n",
    "\n",
    "I Python er en **modul** en samling av funksjoner og klasser som kan gjenbrukes i mange ulike programmer. Et eksempel på en slikt modul er [math](https://docs.python.org/3/library/math.html), som er en samling av matematiske funksjoner. Her finner du for eksempel trigonometriske funksjoner (sin, cos, tan, og så videre) og konstanter (for eksempel $\\pi$) som du kan bruke i programmene dine. Når du skal lage et program vil det spare deg for mye tid om du finner og bruker moduler som andre har laget allerede.\n",
    "\n",
    "En **pakke** i Python er en samling av moduler. Mange pakker kan igjen samles i **biblioteker**. Det biblioteket du bør gjøre deg kjent med aller først, er det såkalte [Python Standard Library](https://docs.python.org/3/library/index.html). Standardbiblioteket er tilgjengelig for deg uten at du trenger å installere ekstra utover en \"vanlig\" Python-installasjon.\n",
    "\n",
    "Om du ikke finner det du trenger i [standardbiblioteket](https://docs.python.org/3/library/index.html) til Python, bør du lete gjennom [The Python Package Index (PyPI)](https://pypi.python.org/pypi). Sjansene er store for at noen har laget akkurat det du trenger allerede, sånn at du ikke må lage alt helt fra bunn av.\n",
    "\n",
    "Nå skal vi gjennomgå noen få (men sentrale) funksjoner og moduler fra [standardbiblioteket](https://docs.python.org/3/library/index.html), men det er viktig at du selv sørger for å gjøre deg kjent med hva du finner der. Vi skal også se på noen biblioteker fra [PyPI](https://pypi.python.org/pypi) som er nyttige i faget Programmering og modellering.\n"
   ]
  },
  {
   "cell_type": "markdown",
   "metadata": {},
   "source": [
    "## Funksjoner og moduler i standardbiblioteket\n",
    "\n",
    "Python har en del [innebygde funksjoner](https://docs.python.org/3/library/functions.html), og du trenger en eller flere av disse i alle programmer. her er noen eksempler. Forsøk gjerne å gjøre endringer i eksemplene, og se hva som skjer.\n"
   ]
  },
  {
   "cell_type": "markdown",
   "metadata": {},
   "source": [
    "Vi skal først se på funksjonen [format()](https://www.python.org/dev/peps/pep-3101/#format-strings), som er den foretrukne måten å sette data inn i tekststrenger på. Her er noen eksempler."
   ]
  },
  {
   "cell_type": "code",
   "execution_count": null,
   "metadata": {},
   "outputs": [],
   "source": [
    "heltall = 7\n",
    "desimaltall = 9.81\n",
    "navn = \"fuzzbin\"\n",
    "print('Hei {}, her er heltallet {} og desimaltallet {}'.format(navn, heltall, desimaltall))"
   ]
  },
  {
   "cell_type": "markdown",
   "metadata": {},
   "source": [
    "Vi bruker range() for å generere en sekvens av tall som vi kan loope gjennom.\n"
   ]
  },
  {
   "cell_type": "code",
   "execution_count": null,
   "metadata": {},
   "outputs": [],
   "source": [
    "for num in range(5):\n",
    "    print('Nå er jeg på tallet {}'.format(num))"
   ]
  },
  {
   "cell_type": "markdown",
   "metadata": {},
   "source": [
    "For å runde av et desimaltall kan vi bruke round()."
   ]
  },
  {
   "cell_type": "code",
   "execution_count": null,
   "metadata": {},
   "outputs": [],
   "source": [
    "a = 2.3\n",
    "b = -2.6\n",
    "print('a ≈ {} og b ≈ {}'.format(round(a), round(b)))"
   ]
  },
  {
   "cell_type": "markdown",
   "metadata": {},
   "source": [
    "I tillegg til de innebygde funksjonene, vil du helt garantert få bruk for modulen [math](https://docs.python.org/3/library/math.html), som er en del av [standardbiblioteket](https://docs.python.org/3/library/index.html) i Python. Her er noen få eksempler på funksjonene i math:"
   ]
  },
  {
   "cell_type": "code",
   "execution_count": null,
   "metadata": {},
   "outputs": [],
   "source": [
    "import math\n",
    "\n",
    "x = -4.67\n",
    "\n",
    "x_abs = math.fabs(x)\n",
    "print('Absoluttverdien av {} er {}'.format(x, x_abs))\n",
    "\n",
    "x_exp = math.exp(x)\n",
    "print('e^{} er {}'.format(x, x_exp))\n",
    "\n",
    "x_cube = math.pow(x, 3)\n",
    "print('{}^3 er {}'.format(x, x_cube))\n",
    "\n",
    "x_abs_sqroot = math.sqrt(x_abs)\n",
    "print('kvadratrot av |{}| er {}'.format(x, x_abs_sqroot))\n"
   ]
  },
  {
   "cell_type": "markdown",
   "metadata": {},
   "source": [
    "### Kommandoen help()\n",
    "For å få dokumentasjon på funksjonene som er tilgjengelige i et bibliotek, kan vi bruke funksjonen `help()`. \n",
    "\n",
    "Prøv for eksempel å skrive kommandoen ```help(math)```"
   ]
  },
  {
   "cell_type": "markdown",
   "metadata": {},
   "source": [
    "En annen nyttig modul i [standardbiblioteket](https://docs.python.org/3/library/index.html) er [random](https://docs.python.org/3/library/random.html). Her er et eksempel hvor vi genererer et tilfeldig tall:"
   ]
  },
  {
   "cell_type": "code",
   "execution_count": null,
   "metadata": {
    "scrolled": true
   },
   "outputs": [],
   "source": [
    "import random\n",
    "\n",
    "tilfeldig = random.random()\n",
    "print('Helt tilfeldig valgte jeg tallet {}'.format(tilfeldig))"
   ]
  },
  {
   "cell_type": "markdown",
   "metadata": {},
   "source": [
    "## Nyttige biblioteker fra PyPI\n",
    "\n",
    "Biblioteket [numpy](https://docs.scipy.org/doc/numpy/reference/index.html) inneholder mange funksjoner for behandling av [vektorer](https://en.wikipedia.org/wiki/Vector_space) og [matriser](https://en.wikipedia.org/wiki/Matrix_(mathematics). Du kan også bruke funksjoner i numpy for å generere lister, slik som i dette eksemplet hvor vi genererer 10 tall mellom 0 og 4.:\n"
   ]
  },
  {
   "cell_type": "code",
   "execution_count": null,
   "metadata": {},
   "outputs": [],
   "source": [
    "import numpy as np\n",
    "\n",
    "minliste = np.linspace(0, 4, num=10)\n",
    "print(minliste)"
   ]
  },
  {
   "cell_type": "markdown",
   "metadata": {},
   "source": [
    "Nå kan vi for eksempel regne ut sinus til alle verdiene i lista vi genrerte"
   ]
  },
  {
   "cell_type": "code",
   "execution_count": null,
   "metadata": {},
   "outputs": [],
   "source": [
    "mineverdier = np.sin(minliste)\n",
    "print(mineverdier)"
   ]
  },
  {
   "cell_type": "markdown",
   "metadata": {},
   "source": [
    "Vi vil ofte ha behov for å visualisere data. Da er biblioteket [Matplotlib](http://matplotlib.org/) kjekt å bruke. Her skal vi bruke modulen [pyplot](https://matplotlib.org/users/pyplot_tutorial.html) (som er en del av biblioteket Matplotlib) for å tegne en graf av tallene vi genererte ovenfor."
   ]
  },
  {
   "cell_type": "code",
   "execution_count": null,
   "metadata": {},
   "outputs": [],
   "source": [
    "import matplotlib.pyplot as plt\n",
    "plt.plot(minliste, mineverdier)\n",
    "plt.show()"
   ]
  },
  {
   "cell_type": "markdown",
   "metadata": {},
   "source": [
    "Med biblioteket [SymPy](http://www.sympy.org) kan du gjøre symbolske utregninger. Her er noen eksempler:"
   ]
  },
  {
   "cell_type": "code",
   "execution_count": null,
   "metadata": {},
   "outputs": [],
   "source": [
    "import sympy\n",
    "\n",
    "print(\"Finne eksakt svar: sqr(8) = \", sympy.sqrt(8))\n",
    "\n",
    "x, y = sympy.symbols('x y')\n",
    "expr_1 = x**2 + 2*x*y \n",
    "print(\"Faktorisere: x^2 + 2xy = \", sympy.factor(expr_1))\n",
    "\n",
    "print(\"Løse likninger: x^2 + 2xy = 0 => \", sympy.solve(sympy.Eq(expr_1, 0), x))\n",
    "\n",
    "expr_2 = x**2 + 2*x - 3\n",
    "print(\"Derivere: d/dx (x^2 + 2*x - 3) = \", sympy.diff(expr_2, x))\n",
    "\n",
    "# Integrere\n",
    "expr_3 = 2*x + 2\n",
    "# - ubestemt \n",
    "print(\"Ubestemt integral: int(2x + 2) = \", sympy.integrate(expr_3, x))\n",
    "# - bestemt \n",
    "print(\"Bestemt integral: int(2x + 2) x:[0, 2] = \", sympy.integrate(expr_3, (x, 0, 2)))\n"
   ]
  },
  {
   "cell_type": "markdown",
   "metadata": {},
   "source": [
    "## Oppgaver\n",
    "1. Bruk modulen random, og lag et program som simulerer [Lotto](https://no.wikipedia.org/wiki/Lotto_(Norge&#41;). Du skal trekke 7 tilfeldige heltall mellom 1 og 34, uten tilbakelegging.\n",
    "2. Lag et program der brukeren kan taste inn a, b og c i funksjonen: $ f(x)=ax^2+bx+c $. Programmet skal så skrive ut nullpunktene til funksjonen. Hint: Disse kan finnes ved hjelp av formelen: $$x=\\frac{-b\\pm\\sqrt{b^2-4ac}}{2a}$$\n",
    "3. Lag et program der brukeren kan taste inn a, b og c i funksjonen: $ f(x)=ax^2+bx+c $. Programmet skal så plotte funksjonsverdiene for $ x \\epsilon [0,10] $ se også: [Plotting i python](https://github.com/fagstoff/ProgMod/blob/a8e819bc251175ce6cf81122326d24c20a8ee3b4/Fagstoff/enkel-graf.ipynb)\n",
    "4. Ekstrautfordring: Lag et program der brukeren kan taste inn amplitude og frekvens. Programmet skal så tegne den tilsvarende sinusfunksjonen for to hele perioder. Det skal være navn og verdi på aksene og rutenett som bakgrunn på plottet.\n"
   ]
  },
  {
   "cell_type": "code",
   "execution_count": null,
   "metadata": {},
   "outputs": [],
   "source": []
  }
 ],
 "metadata": {
  "kernelspec": {
   "display_name": "Python 3",
   "language": "python",
   "name": "python3"
  },
  "language_info": {
   "codemirror_mode": {
    "name": "ipython",
    "version": 3
   },
   "file_extension": ".py",
   "mimetype": "text/x-python",
   "name": "python",
   "nbconvert_exporter": "python",
   "pygments_lexer": "ipython3",
   "version": "3.6.5"
  }
 },
 "nbformat": 4,
 "nbformat_minor": 2
}
