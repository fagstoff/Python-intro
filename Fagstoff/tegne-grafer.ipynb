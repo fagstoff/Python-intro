{
 "cells": [
  {
   "cell_type": "markdown",
   "metadata": {
    "slideshow": {
     "slide_type": "-"
    }
   },
   "source": [
    "# Tegne grafer\n",
    "__Creative Commons BY-SA : bitjungle (Rune Mathisen) og fuzzbin (Tom Jarle Christiansen)__\n",
    "\n",
    "<hr/>\n",
    "\n",
    "<img alt=\"Python-logo\" style=\"float: right; margin-left: 10px;\" src=\"img/Rectangular_hyperbola.svg.png\">\n",
    "\n",
    "\n",
    "**Ofte ønskeler vi å representere matematiske modeller og funskjoner grafisk. I Python kan dette gjøres på flere måter. En veldig vanlig måte å gjøre dette på er å benytte seg av biblioteket [matplotlib](http://matplotlib.org/).**\n",
    "\n",
    "> _Denne siden dekker delvis kompetansemålene: [Grunnleggende programmering punkt 3](https://github.com/fagstoff/ProgMod/blob/master/L%C3%A6replan/kompetansem%C3%A5l.md#grunnleggende-programmering) i læreplanen til faget Programmering og modellering X._\n",
    "\n",
    "Prinsippet bak plotting i Python ligner veldig på metoden som brukes når man skal lage en grafisk fremstilling manuelt ved hjelp av en tabell. Før vi kan lage en graf, må dataene organisereres i lister.\n",
    "\n",
    "\n",
    "|X|0|1|2|3|4|5|\n",
    "|-|-|-|-|-|-|-|\n",
    "|Y|0|1|4|9|16|25|\n",
    "\n",
    "\n",
    "Hvert tallpar representerer ett punkt (x,y) i grafen. Det er derfor viktig at listene er like lange. Vi lager to lister med verdier som skal plottes:"
   ]
  },
  {
   "cell_type": "code",
   "execution_count": 1,
   "metadata": {},
   "outputs": [],
   "source": [
    "x_verdier = [0, 1, 2, 3, 4, 5]\n",
    "y_verdier = [0, 1, 4, 9, 16, 25]\n"
   ]
  },
  {
   "cell_type": "markdown",
   "metadata": {},
   "source": [
    "Vi kan nå bruke biblioteket matplotlib i sin aller enkleste form til å skrive ut punktene vi har lagret i de to listene. Det gjør vi slik:"
   ]
  },
  {
   "cell_type": "code",
   "execution_count": 3,
   "metadata": {},
   "outputs": [
    {
     "data": {
      "image/png": "[encoded data removed]",
      "text/plain": [
       "<matplotlib.figure.Figure at 0x10f2ddb00>"
      ]
     },
     "metadata": {},
     "output_type": "display_data"
    }
   ],
   "source": [
    "import matplotlib.pyplot as plt \n",
    "plt.plot(x_verdier,y_verdier)\n",
    "plt.show()"
   ]
  },
  {
   "cell_type": "markdown",
   "metadata": {},
   "source": [
    "Matplotlib er veldig fleksibelt, og det finnes mange kommandoer og argumenter som gjør at vi kan tilpasse plottet. I eksempelet under er det lagt inn noen fler kommandoer og argumenter. Argumentet `bx` markerer punktene som blå kryss, og med grid-kommandoen kan vi lage et rutenett som bakgrunn."
   ]
  },
  {
   "cell_type": "code",
   "execution_count": 4,
   "metadata": {},
   "outputs": [
    {
     "data": {
      "image/png": "[encoded data removed]",
      "text/plain": [
       "<matplotlib.figure.Figure at 0x1109dde10>"
      ]
     },
     "metadata": {},
     "output_type": "display_data"
    }
   ],
   "source": [
    "plt.plot(x_verdier,y_verdier,'bx')\n",
    "plt.title('Enkelt plott')\n",
    "plt.grid(color='r', linestyle='-', linewidth=0.5)\n",
    "plt.xlabel('x-verdier')\n",
    "plt.ylabel('y-verdier')\n",
    "plt.show()"
   ]
  },
  {
   "cell_type": "markdown",
   "metadata": {},
   "source": [
    "## Oppgaver\n",
    "\n",
    "1. Lag en linær graf med stigningstall 2 og merk aksene.\n",
    "2. Tegn funksjonen $f(x)=-x^2+10x$ når $ x\\epsilon[0,10]$ i et koordinatsystem.\n",
    "3. Pynt oppgave 2 så fint du kan. Du kan finne inspirasjon i [eksempelgalleriet](https://matplotlib.org/gallery/index.html) til [Matplotlib](http://matplotlib.org/).\n",
    "4. Plott funksjonen $g(x)=2x-5$ i samme koordinatsystem."
   ]
  },
  {
   "cell_type": "code",
   "execution_count": null,
   "metadata": {},
   "outputs": [],
   "source": []
  }
 ],
 "metadata": {
  "celltoolbar": "Slideshow",
  "kernelspec": {
   "display_name": "Python 3",
   "language": "python",
   "name": "python3"
  },
  "language_info": {
   "codemirror_mode": {
    "name": "ipython",
    "version": 3
   },
   "file_extension": ".py",
   "mimetype": "text/x-python",
   "name": "python",
   "nbconvert_exporter": "python",
   "pygments_lexer": "ipython3",
   "version": "3.6.4"
  }
 },
 "nbformat": 4,
 "nbformat_minor": 2
}
