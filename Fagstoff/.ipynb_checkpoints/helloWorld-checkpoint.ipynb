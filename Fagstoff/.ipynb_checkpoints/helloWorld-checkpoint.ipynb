{
 "cells": [
  {
   "cell_type": "markdown",
   "metadata": {},
   "source": [
    "# Hallo verden!\n",
    "__Creative Commons BY-SA : bitjungle (Rune Mathisen) og fuzzbin (Tom Jarle Christiansen)__\n",
    "\n",
    "<hr/>\n",
    "\n",
    "<img alt=\"Opphavsmann: incepsoft\" style=\"float: right; margin-left: 10px;\" src=\"img/hello-world.jpg\">\n",
    "\n",
    "\n",
    "**Er du klar til å lage ditt første program i Python? I god gammel programmeringstradisjon  skal vi kalle vårt første program \"[Hallo verden](https://no.wikipedia.org/wiki/Hello,_world)\". Dette er den vanligste måten å bli kjent med et nytt programmeringsspråk. Programmet vi lager skal skrive teksten \"Hallo verden!\" ut på skjermen.**\n",
    "\n",
    "> _Denne siden dekker delvis kompetansemålene: [Grunnleggende programmering punkt 3](https://github.com/fagstoff/ProgMod/blob/master/L%C3%A6replan/kompetansem%C3%A5l.md#grunnleggende-programmering) i læreplanen til faget Programmering og modellering X._\n",
    "\n",
    "Nå skal vi begynne å teste litt Python-kode. Dersom du bruker [Jupyter](https://jupyter.org/) eller [Microsoft Azure](https://notebooks.azure.com/bitjungle/libraries/python-57), kan du kjøre all koden nedenfor ved å klikke i en kodeboks og så trykke [SHIFT] + [ENTER] på tastaturet. Bruker du ikke Jupyter, må du taste inn koden i et Python terminalvindu.\n",
    "\n",
    "<img alt=\"Opphavsmann: Alice Keeler\" style=\"margin-left: 100px;\" src=\"img/shift-enter.png\">"
   ]
  },
  {
   "cell_type": "markdown",
   "metadata": {},
   "source": [
    "For å skrive ut en tekst skal vi bruke Python-kommandoen `print()`. En kommando i programmering fungerer slik at datamaskinen utfører en forhåndsbestemt oppgave når kommandoen leses inn. Som regel trenger kommandoene litt ekstra informasjon for å fungere skikkelig. Kommandoen `print()` må vite hva den skal skrive ut. Denne informasjonen skrives inne i parantesen."
   ]
  },
  {
   "cell_type": "code",
   "execution_count": 1,
   "metadata": {},
   "outputs": [
    {
     "name": "stdout",
     "output_type": "stream",
     "text": [
      "\n"
     ]
    }
   ],
   "source": [
    "print()"
   ]
  },
  {
   "cell_type": "markdown",
   "metadata": {},
   "source": [
    "Kommandoen over har ingen utskrift, fordi vi ikke har skrevet noe inne i parantesen.\n",
    "\n",
    "La oss nå prøve å skrive ut teksten: Hallo verden!"
   ]
  },
  {
   "cell_type": "code",
   "execution_count": 2,
   "metadata": {},
   "outputs": [
    {
     "ename": "SyntaxError",
     "evalue": "invalid syntax (<ipython-input-2-4a0f153ebab2>, line 1)",
     "output_type": "error",
     "traceback": [
      "\u001b[0;36m  File \u001b[0;32m\"<ipython-input-2-4a0f153ebab2>\"\u001b[0;36m, line \u001b[0;32m1\u001b[0m\n\u001b[0;31m    print(Hallo verden!)\u001b[0m\n\u001b[0m                     ^\u001b[0m\n\u001b[0;31mSyntaxError\u001b[0m\u001b[0;31m:\u001b[0m invalid syntax\n"
     ]
    }
   ],
   "source": [
    "print(Hallo verden!)"
   ]
  },
  {
   "cell_type": "markdown",
   "metadata": {},
   "source": [
    "Her fikk vi en feilmelding. Kommandoen print fungerte ikke, fordi den skjønte ikke teksten i parantesen. For å fortelle kommandoen at *Hallo verden!* er en tekst må vi plassere teksten i anførselstegn slik: *\"Hallo verden!\"*"
   ]
  },
  {
   "cell_type": "code",
   "execution_count": 3,
   "metadata": {},
   "outputs": [
    {
     "name": "stdout",
     "output_type": "stream",
     "text": [
      "Hallo verden!\n"
     ]
    }
   ],
   "source": [
    "print(\"Hallo verden!\")"
   ]
  },
  {
   "cell_type": "markdown",
   "metadata": {},
   "source": [
    "Vi kan også skrive ut tall og regnestykker slik:"
   ]
  },
  {
   "cell_type": "code",
   "execution_count": 4,
   "metadata": {},
   "outputs": [
    {
     "name": "stdout",
     "output_type": "stream",
     "text": [
      "5\n"
     ]
    }
   ],
   "source": [
    "print(5)"
   ]
  },
  {
   "cell_type": "code",
   "execution_count": 5,
   "metadata": {},
   "outputs": [
    {
     "name": "stdout",
     "output_type": "stream",
     "text": [
      "8\n"
     ]
    }
   ],
   "source": [
    "print(5 + 3)"
   ]
  },
  {
   "cell_type": "markdown",
   "metadata": {},
   "source": [
    "Tekst og tall kan kombineres ved å bruke komma."
   ]
  },
  {
   "cell_type": "code",
   "execution_count": 1,
   "metadata": {},
   "outputs": [
    {
     "name": "stdout",
     "output_type": "stream",
     "text": [
      "Regnestykket 5 + 3 er lik 8\n"
     ]
    }
   ],
   "source": [
    "print(\"Regnestykket 5 + 3 er lik \", 5 + 3)"
   ]
  },
  {
   "cell_type": "markdown",
   "metadata": {},
   "source": [
    "Legg merke til at `\"5 + 3\"` og `5 + 3` er to forskjellige ting. Den første er en tekststreng og den andre er et regnestykke hvor Python regner ut resultatet."
   ]
  },
  {
   "cell_type": "markdown",
   "metadata": {},
   "source": [
    "## Oppgaver\n",
    "Gjør oppgavene nedenfor, kjør gjennom programmet hver gang du har gjort en endring.\n",
    "1. Skriv ut teksten \"Hallo Norge!\".\n",
    "2. Skriv ut et regnestykker der du bruker alle fire regnearter.\n",
    "3. Skriv ut tre regnestykker med forklarende tekst.\n",
    "4. Skriv ut reglene for [regnerekkefølge](https://no.wikipedia.org/wiki/Regnerekkef%C3%B8lge) med eksempler."
   ]
  },
  {
   "cell_type": "code",
   "execution_count": null,
   "metadata": {
    "collapsed": true
   },
   "outputs": [],
   "source": []
  }
 ],
 "metadata": {
  "kernelspec": {
   "display_name": "Python 3",
   "language": "python",
   "name": "python3"
  },
  "language_info": {
   "codemirror_mode": {
    "name": "ipython",
    "version": 3
   },
   "file_extension": ".py",
   "mimetype": "text/x-python",
   "name": "python",
   "nbconvert_exporter": "python",
   "pygments_lexer": "ipython3",
   "version": "3.6.5"
  },
  "widgets": {
   "application/vnd.jupyter.widget-state+json": {
    "state": {},
    "version_major": 1,
    "version_minor": 0
   }
  }
 },
 "nbformat": 4,
 "nbformat_minor": 2
}
