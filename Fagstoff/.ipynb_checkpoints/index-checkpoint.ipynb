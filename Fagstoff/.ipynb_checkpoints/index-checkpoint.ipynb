{
 "cells": [
  {
   "cell_type": "markdown",
   "metadata": {},
   "source": [
    "# Introduksjon til programmering i Python\n",
    "\n",
    "I dette dokumentet finner du læremidler til et introduksjonskurs i programmering med Python. Kurset er laget med Jupyter Notebooks, hvor fagtekster, interaktiv kode og oppgaver er samlet i ett og samme dokument. Kurset avsluttes med et prosjekt hvor du skal lage ditt eget spill. Læremidlene er laget av bitjungle og fuzzbin, og kan brukes fritt av alle.\n",
    "\n",
    "1. [Hallo verden](helloWorld.ipynb)\n",
    "2. [Variabler](kontrollstrukturer.ipynb)\n",
    "4. [Moduler og biblioteker](moduler%20og%20biblioteker.ipynb)\n",
    "5. [Funksjoner](funksjoner.ipynb)\n",
    "6. [Kodekommentarer og dokumentasjon](kodekommentarer.ipynb)\n",
    "7. [Lag et enkelt spill](lag%20et%20enkelt%20spill.ipynb)"
   ]
  },
  {
   "cell_type": "code",
   "execution_count": null,
   "metadata": {},
   "outputs": [],
   "source": []
  }
 ],
 "metadata": {
  "kernelspec": {
   "display_name": "Python 3",
   "language": "python",
   "name": "python3"
  },
  "language_info": {
   "codemirror_mode": {
    "name": "ipython",
    "version": 3
   },
   "file_extension": ".py",
   "mimetype": "text/x-python",
   "name": "python",
   "nbconvert_exporter": "python",
   "pygments_lexer": "ipython3",
   "version": "3.6.4"
  }
 },
 "nbformat": 4,
 "nbformat_minor": 2
}
