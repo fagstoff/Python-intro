{
 "cells": [
  {
   "cell_type": "markdown",
   "metadata": {
    "slideshow": {
     "slide_type": "-"
    }
   },
   "source": [
    "# Variabler\n",
    "__Creative Commons BY-SA : bitjungle (Rune Mathisen) og fuzzbin (Tom Jarle Christiansen)__\n",
    "\n",
    "<hr/>\n",
    "\n",
    "<img alt=\"(X)\" style=\"float: right; margin-left: 10px;\" src=\"img/variable-x.png\">\n",
    "\n",
    "**I nesten alle programmer har vi behov for å behandle og manipulere tall og tekst. For å få til dette er vi helt avhengige av å kunne lagre denne informasjonen et sted. Dette gjøres ved hjelp av variabler.**\n",
    "\n",
    "> _Denne siden dekker helt eller delvis kompetansemålene: [Grunnleggende programmering 3 og 4](https://github.com/fagstoff/ProgMod/blob/master/L%C3%A6replan/kompetansem%C3%A5l.md#grunnleggende-programmering) i læreplanen til faget Programmering og modellering X._\n",
    "\n",
    "En variabel i programmering brukes på samme måte som i matematikk. Variablen representeres med et symbol eller navn som kan inneholde en verdi. Denne verdien kan være et tall, en tekst, en liste eller helt andre ting. En variabel kan som oftest endre sin verdi etter at den er laget.\n",
    "\n",
    "Variabler kan ha mange ulike typer innhold. Dette kalles for datatyper. Noen av disse har også undertyper, for eksempel datatypen *tall* (number) som bl.a. har undertypene *heltall* (integer) og *desimaltall* (float).\n",
    "\n",
    "Python har mange ulike datatyper, her er noen av de viktigste:\n",
    "\n",
    ">+ Numbers -> 3 eller 3.1415926\n",
    ">+ String -> \"Hallo verden!\"\n",
    ">+ Boolean -> True eller False\n",
    ">+ Liste -> [123, \"Rune\"]\n",
    ">+ Tuppel -> (123, \"Tom Jarle\")\n",
    ">+ Dictionary -> {\"fag\": \"Programmering\", \"type\": \"Realfag\", \"inntakspoeng\": 45.6}\n",
    "\n",
    "La oss se på noen eksempler der vi *deklarerer* noen ulike variabeltyper, *tilordner* verdier og skriver ut datatypen. Vi tilordner en verdi til en variabel med et likhetstegn `=`. For å skrive ut datatypen, bruker vi den innebygde funksjonen `type()`."
   ]
  },
  {
   "cell_type": "code",
   "execution_count": 1,
   "metadata": {},
   "outputs": [
    {
     "name": "stdout",
     "output_type": "stream",
     "text": [
      "10 er et heltall, og har datatypen:  <class 'int'>\n"
     ]
    }
   ],
   "source": [
    "tall1 = 10\n",
    "print(tall1, \"er et heltall, og har datatypen: \", type(tall1))"
   ]
  },
  {
   "cell_type": "code",
   "execution_count": 2,
   "metadata": {},
   "outputs": [
    {
     "name": "stdout",
     "output_type": "stream",
     "text": [
      "10.0 er et desimaltall, og har datatypen:  <class 'float'>\n"
     ]
    }
   ],
   "source": [
    "tall2 = 10.0\n",
    "print(tall2, \"er et desimaltall, og har datatypen: \", type(tall2))"
   ]
  },
  {
   "cell_type": "code",
   "execution_count": 3,
   "metadata": {},
   "outputs": [
    {
     "name": "stdout",
     "output_type": "stream",
     "text": [
      "Dette er en tekst! er en tekst, og har datatypen:  <class 'str'>\n"
     ]
    }
   ],
   "source": [
    "tekst = \"Dette er en tekst!\"\n",
    "print(tekst, \"er en tekst, og har datatypen: \", type(tekst))"
   ]
  },
  {
   "cell_type": "code",
   "execution_count": 4,
   "metadata": {},
   "outputs": [
    {
     "name": "stdout",
     "output_type": "stream",
     "text": [
      "True er en boolsk verdi, og har datatypen:  <class 'bool'>\n"
     ]
    }
   ],
   "source": [
    "sant_eller_usant = True\n",
    "print(sant_eller_usant, \"er en boolsk verdi, og har datatypen: \", type(sant_eller_usant))"
   ]
  },
  {
   "cell_type": "markdown",
   "metadata": {},
   "source": [
    "## Lister og tupler\n",
    "Nå har du sett de grunnleggende datatypene i Python, men det går også an å gruppere og organisere disse på ulike måter. En liste er samling av dataelementer som kan være av ulike typer, for eksempel tall eller tekst. Når du skal lage en liste, bruker du `[]`.\n",
    "\n",
    "Hver element i en liste kan refereres til med en indeks, men vær oppmerksom på at det første elementet i en liste har indeksen 0 (ikke 1 som en kanskje skulle tro). I eksemplet nedenfor endrer vi på den fjerde dataenheten i lista, og da bruker vi indeksen 3. "
   ]
  },
  {
   "cell_type": "code",
   "execution_count": 5,
   "metadata": {},
   "outputs": [
    {
     "name": "stdout",
     "output_type": "stream",
     "text": [
      "[1, 2, 3, 'Heisann', 4] er en liste, og har datatypen:  <class 'list'>\n",
      "Nå ser den slik ut:  [1, 2, 3, 'Hohoho', 4]\n"
     ]
    }
   ],
   "source": [
    "liste = [1, 2, 3, \"Heisann\", 4]\n",
    "print(liste, \"er en liste, og har datatypen: \", type(liste))\n",
    "liste[3] = \"Hohoho\"\n",
    "print(\"Nå ser den slik ut: \", liste)"
   ]
  },
  {
   "cell_type": "markdown",
   "metadata": {},
   "source": [
    "En tuppel er en spesiell type liste hvor elementene ikke kan endres. Når du lager en ny liste, bruker du `()`."
   ]
  },
  {
   "cell_type": "code",
   "execution_count": 6,
   "metadata": {},
   "outputs": [
    {
     "name": "stdout",
     "output_type": "stream",
     "text": [
      "(5, 6, 7, 'Hoppsann', 8) er en tuppel, og har datatypen:  <class 'tuple'>\n",
      "I motsetning til en liste, er det ikke mulig å endre verdiene i en tuppel.\n"
     ]
    }
   ],
   "source": [
    "tuppel = (5, 6, 7, \"Hoppsann\", 8)\n",
    "print(tuppel, \"er en tuppel, og har datatypen: \", type(tuppel))\n",
    "print(\"I motsetning til en liste, er det ikke mulig å endre verdiene i en tuppel.\")"
   ]
  },
  {
   "cell_type": "markdown",
   "metadata": {},
   "source": [
    "## Dictionary\n",
    "\n",
    "En dictionary i Python er en nyttig datatype i Python for å lagre data på en strukturert måte. I denne datatypen gir du selv navn til indeksene, istedenfor at du får tildelt indekser som 0, 1, 2, ... slik som i lister og tupler. Her er et eksempel på hvordan du kan lage en dictionary."
   ]
  },
  {
   "cell_type": "code",
   "execution_count": 7,
   "metadata": {},
   "outputs": [
    {
     "name": "stdout",
     "output_type": "stream",
     "text": [
      "{'fabrikant': 'BMW', 'modell': 'X3', 'akselr': 4.8, 'seter': 7}  er en dictionary, og har datatypen:  <class 'dict'>\n",
      "Nå ser den slik ut:  {'fabrikant': 'BMW', 'modell': 'X3', 'akselr': 4.8, 'seter': 5}\n"
     ]
    }
   ],
   "source": [
    "dict = {\"fabrikant\": \"BMW\", \"modell\": \"X3\", \"akselr\": 4.8, \"seter\": 7}\n",
    "print(dict, \" er en dictionary, og har datatypen: \", type(dict))\n",
    "dict[\"seter\"] = 5\n",
    "print(\"Nå ser den slik ut: \", dict)"
   ]
  },
  {
   "cell_type": "markdown",
   "metadata": {},
   "source": [
    "## Dokumentasjon\n",
    "Her finner du utfyllende dokumentasjon på hvordan de ulike datatypene kan brukes:\n",
    "\n",
    "* [Numeric Types — int, float, complex](https://docs.python.org/3/library/stdtypes.html#numeric-types-int-float-complex)\n",
    "* [Sequence Types — list, tuple, range](https://docs.python.org/3/library/stdtypes.html#sequence-types-list-tuple-range)\n",
    "* [Text Sequence Type — str](https://docs.python.org/3/library/stdtypes.html#text-sequence-type-str)\n"
   ]
  },
  {
   "cell_type": "markdown",
   "metadata": {},
   "source": [
    "## Bruk riktig datatype\n",
    "Det er viktig å holde styr på hva slags datatype du bruker i programmene dine, og at du bruker riktig datatype til den oppgaven du skal løse. Nedenfor ser du noen eksempler på resultatet av å legge sammen tall med forskjellige datatyper. Det er ikke mulig å bruke + mellom to ulike datatyper (forsøk gjerne å gjøre det nedenfor)."
   ]
  },
  {
   "cell_type": "code",
   "execution_count": 8,
   "metadata": {},
   "outputs": [
    {
     "name": "stdout",
     "output_type": "stream",
     "text": [
      "a + b =  23\n",
      "a + b =  5\n",
      "a + b =  5.0\n",
      "c + d =  5\n",
      "e + f =  5.0\n",
      "g + h =  5\n"
     ]
    }
   ],
   "source": [
    "a = \"2\"\n",
    "b = \"3\"\n",
    "c = 2\n",
    "d = 3\n",
    "e = 2.0\n",
    "f = 3.0\n",
    "mine_tall = {\"g\": 2, \"h\": 3}\n",
    "\n",
    "print(\"a + b = \", a + b)\n",
    "print(\"a + b = \", int(a) + int(b))\n",
    "print(\"a + b = \", float(a) + float(b))\n",
    "print(\"c + d = \", c + d)\n",
    "print(\"e + f = \", e + f)\n",
    "print(\"g + h = \", mine_tall[\"g\"] + mine_tall[\"h\"])"
   ]
  },
  {
   "cell_type": "markdown",
   "metadata": {},
   "source": [
    "## Variabelnavn\n",
    "I matematikk er det populært å bruke $x$ og $y$ og andre bokstaver som variabelnavn. I Python er det vanlig praksis å gi variablene navn som er beskrivende for innholdet. Dersom variabelnavnet inneholder flere ord, skiller du mellom ordene med et understrek-tegn ( _ ). Eksempler:"
   ]
  },
  {
   "cell_type": "code",
   "execution_count": 2,
   "metadata": {},
   "outputs": [
    {
     "name": "stdout",
     "output_type": "stream",
     "text": [
      "Vektforskjellen mellom bil og sykkel er 1779 kg.\n"
     ]
    }
   ],
   "source": [
    "vekt_bil = 1788\n",
    "vekt_sykkel = 9\n",
    "vekt_differanse = vekt_bil - vekt_sykkel\n",
    "print(\"Vektforskjellen mellom bil og sykkel er\", vekt_differanse,  \"kg.\")"
   ]
  },
  {
   "cell_type": "markdown",
   "metadata": {},
   "source": [
    "## Fysikkeksempel\n",
    "La oss se på et enkelt eksempel fra fysikken der vi ser på hvordan vi regner ut tilbakelagt strekning når vi vet den konstante farten og tiden. I eksempelet brukes variabler av datatypen _Numbers_ (int)\n",
    "\n",
    "$$s=v \\cdot t$$\n",
    "\n",
    "Hvis vi lar $v=20\\textrm{ m/s}$ og $t=30\\textrm{s}$ så kan vi regne ut tilbakelagt strekning på følgende måte.\n",
    "\n",
    "$$ s = 20 \\cdot 30 $$\n",
    "$$ s= \\underline{\\underline{600\\textrm{ m}}}$$\n",
    "\n",
    "I Python ville samme eksempel bli løst som vist under:"
   ]
  },
  {
   "cell_type": "code",
   "execution_count": 9,
   "metadata": {
    "slideshow": {
     "slide_type": "-"
    }
   },
   "outputs": [
    {
     "name": "stdout",
     "output_type": "stream",
     "text": [
      "Tilbakelagt strekning er 600 meter.\n"
     ]
    }
   ],
   "source": [
    "fart = 20\n",
    "tid = 30\n",
    "\n",
    "strekning = fart * tid\n",
    "\n",
    "print(\"Tilbakelagt strekning er\", strekning, \"meter.\")"
   ]
  },
  {
   "cell_type": "markdown",
   "metadata": {},
   "source": [
    "## Mer om variabler og matematikk\n",
    "\n",
    "Det er _mye_ å lære om variabler, og i dette kurset vil vi såvidt se på noen av de viktigste egenskapene.\n",
    "Tabellen under viser noen variableoperasjoner med tilhørende resultat:\n",
    "\n",
    "| Kommando | Resultat      | Kommentar  |\n",
    "|:--------|:-------------| :---------|\n",
    "| 2 + 2           | 4  | Sum/diff av heltall ([int](https://no.wikipedia.org/wiki/Heltall)) gir heltall som svar|\n",
    "| 2 + 3\\*6        | 20 | Vanlig regnerekkefølge gjelder |\n",
    "| (50 - 5\\*6) / 4 | 5.0| Divisjon gir _alltid_ et desimaltall ([float](https://en.wikipedia.org/wiki/Floating-point_arithmetic))|\n",
    "| 5 \\*\\* 2 | 25 | \\*\\* brukes for å opphøye et tall med et annet |\n",
    "| 7 % 3 | 1 | Rest etter divisjon med største teller som går opp i nevner: $ 7 - 2\\cdot3 = 1 $|\n",
    "\n",
    "\n",
    "## Oppgaver\n",
    "\n",
    "1. Lag et program som der du oppretter variablene _tall1_ og _tall2_. Skriv så ut resultatet av minst fem ulike operasjoner på disse tallene.\n",
    "2. Lag et program der du deklarerer, tilordner verdi til variabler med ulike datatyper.\n",
    "3. Lag et program der du konverterer fra en datatype til en annen.\n",
    "4. Lag et program som sjekker om et tall er delelig på 2.\n",
    "5. Bruk fysikkprogrammet ovenfor som utgangspunkt, men gjør det som slik at det regner ut fart når du kjenner strekning og tid (og antar at farten er konstant).\n",
    "6. Klarer du å få programmet du laget i punkt 5. til å kræsje? Forklar hvorfor!\n"
   ]
  },
  {
   "cell_type": "code",
   "execution_count": null,
   "metadata": {
    "collapsed": true
   },
   "outputs": [],
   "source": []
  }
 ],
 "metadata": {
  "celltoolbar": "Attachments",
  "kernelspec": {
   "display_name": "Python 3",
   "language": "python",
   "name": "python3"
  },
  "language_info": {
   "codemirror_mode": {
    "name": "ipython",
    "version": 3
   },
   "file_extension": ".py",
   "mimetype": "text/x-python",
   "name": "python",
   "nbconvert_exporter": "python",
   "pygments_lexer": "ipython3",
   "version": "3.6.5"
  }
 },
 "nbformat": 4,
 "nbformat_minor": 2
}
