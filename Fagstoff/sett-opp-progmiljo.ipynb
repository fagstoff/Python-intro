{
 "cells": [
  {
   "cell_type": "markdown",
   "metadata": {},
   "source": [
    "# Sett opp programmeringsmiljøet\n",
    "\n",
    "__Creative Commons BY-SA : bitjungle (Rune Mathisen) og fuzzbin (Tom Jarle Christiansen)__\n",
    "\n",
    "<hr/>\n",
    "\n",
    "<img alt=\"Python-logo\" style=\"float: right; margin-left: 10px;\" src=\"img/pythonlogo.png\">\n",
    "\n",
    "**Før du starter på Python-kurset, må du sette opp et programmeringsmiljø. Med det mener vi all programvare som er nødvendig for å komme i gang med programmering i Python. Her forklarer vi deg hvordan du gjør det.**\n",
    "\n",
    "Aller først må vi sørge for at du har tilgang til programvaren [Python](https://www.python.org/downloads/). Dersom du ikke er helt klar for å installere dette på din egen datamaskin, har vi en snarvei til deg. Du kan kjøre hele dette kurset på [Microsoft Azure](sett-opp-azure-notebooks.ipynb). Det er den raskeste og enkleste måten å komme i gang på.\n"
   ]
  },
  {
   "cell_type": "markdown",
   "metadata": {},
   "source": [
    "# Installasjon\n",
    "\n",
    "Kjør først installasjonsprogrammet til Python. For å kontrollere at installasjonen var vellykket, kan du sjekke dette ved å skrive kommandoen `python` i [terminalvinduet](https://en.wikipedia.org/wiki/Terminal_emulator). Dersom Python er installert, vil du se noe liknende dette:\n",
    "\n",
    "<img alt=\"Skjermbilde av kommandovindu i Windows\" src=\"img/win-cmd-python.png\">\n",
    "\n",
    "\n",
    "Snakk med kursleder for informasjon om:\n",
    "* Detaljert oppskrift for installasjon av Python\n",
    "* Detaljert oppskrift for installasjon av Jupyter\n",
    "* Forskjellige editor- og IDE-alternativer"
   ]
  },
  {
   "cell_type": "code",
   "execution_count": null,
   "metadata": {},
   "outputs": [],
   "source": []
  }
 ],
 "metadata": {
  "kernelspec": {
   "display_name": "Python 3",
   "language": "python",
   "name": "python3"
  },
  "language_info": {
   "codemirror_mode": {
    "name": "ipython",
    "version": 3
   },
   "file_extension": ".py",
   "mimetype": "text/x-python",
   "name": "python",
   "nbconvert_exporter": "python",
   "pygments_lexer": "ipython3",
   "version": "3.7.0"
  }
 },
 "nbformat": 4,
 "nbformat_minor": 2
}
