{
 "cells": [
  {
   "cell_type": "markdown",
   "metadata": {},
   "source": [
    "# Sett opp Azure Notebooks\n",
    "\n",
    "__Creative Commons BY-SA : bitjungle (Rune Mathisen) og fuzzbin (Tom Jarle Christiansen)__\n",
    "\n",
    "<hr/>\n",
    "\n",
    "<img alt=\"Azure-logo\" style=\"float: right; margin-left: 10px;\" src=\"img/200px-Microsoft_Azure_Logo.svg.png\">\n",
    "\n",
    "**Før du starter på Python-kurset, må du sette opp et programmeringsmiljø. Kurset er laget med programvaren Jupyter Notebooks, et system der fagtekster, interaktiv kode og oppgaver er samlet i ett og samme dokument. Du trenger ikke å installere Jupyter på din egen maskin. Her forklarer vi deg hvordan du kommer i gang med Microsoft Azure Notebooks.**\n",
    "\n",
    "\n",
    "Før du begynner, må du logge deg på [Microsoft Azure Notebooks](https://notebooks.azure.com/account/signin#). De fleste fylkeskommuner bruker Office 365. Da kan du bruke det samme brukernavnet og passordet når du logger deg på Azure Notebooks. Har du ikke en Office 365-konto, kan du [lage deg en Microsoft-konto selv](https://signup.live.com/signup).\n",
    "\n",
    "Når du har logget deg på, går du til:\n",
    "\n",
    "[https://notebooks.azure.com/fuzzbin/projects/python-intro-pvgsbvgs/tree/Fagstoff](https://notebooks.azure.com/fuzzbin/projects/python-intro-pvgsbvgs/tree/Fagstoff)\n",
    "\n",
    "Følg deretter anvisningene i bildene nedenfor.\n"
   ]
  },
  {
   "cell_type": "markdown",
   "metadata": {},
   "source": [
    "<img alt=\"Steg 1\" src=\"img/azure-steg-01.png\">\n",
    "\n",
    "<img alt=\"Steg 1\" src=\"img/azure-steg-02.png\">\n",
    "\n",
    "<img alt=\"Steg 1\" src=\"img/azure-steg-03.png\">\n",
    "\n",
    "<img alt=\"Steg 1\" src=\"img/azure-steg-04.png\">\n",
    "\n",
    "<img alt=\"Steg 1\" src=\"img/azure-steg-05.png\">"
   ]
  },
  {
   "cell_type": "code",
   "execution_count": null,
   "metadata": {},
   "outputs": [],
   "source": []
  }
 ],
 "metadata": {
  "kernelspec": {
   "display_name": "Python 3",
   "language": "python",
   "name": "python3"
  },
  "language_info": {
   "codemirror_mode": {
    "name": "ipython",
    "version": 3
   },
   "file_extension": ".py",
   "mimetype": "text/x-python",
   "name": "python",
   "nbconvert_exporter": "python",
   "pygments_lexer": "ipython3",
   "version": "3.7.1"
  }
 },
 "nbformat": 4,
 "nbformat_minor": 2
}
